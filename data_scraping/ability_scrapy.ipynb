{
 "cells": [
  {
   "cell_type": "code",
   "execution_count": 1,
   "metadata": {},
   "outputs": [],
   "source": [
    "from bs4 import BeautifulSoup\n",
    "from urllib.request import urlopen\n",
    "import re\n",
    "import pandas as pd\n",
    "import numpy as np"
   ]
  },
  {
   "cell_type": "code",
   "execution_count": 61,
   "metadata": {},
   "outputs": [],
   "source": [
    "html = open('/Users/mac/Desktop/projects/pokemon/ability/ability-0.html'.format(pkm_no)).read()\n",
    "soup = BeautifulSoup(html, 'html.parser')"
   ]
  },
  {
   "cell_type": "code",
   "execution_count": 64,
   "metadata": {},
   "outputs": [],
   "source": [
    "table = soup.find('table', attrs={'class':'ability'})"
   ]
  },
  {
   "cell_type": "code",
   "execution_count": 84,
   "metadata": {},
   "outputs": [],
   "source": [
    "# 找第三代的特性\n",
    "def get_each_line(x):\n",
    "        columns = x.find_all('td')\n",
    "        jp_name=  x.find_all('td')[0].text.replace('\\n','')\n",
    "        cn_name=  x.find_all('td')[1].text.replace('\\n','')\n",
    "        explain=  x.find_all('td')[2].text.replace('\\n','').split('※ 冒險效果： ')\n",
    "        return([jp_name]+[cn_name]+explain)\n",
    "\n",
    "def data_clean(gen=gen_3):\n",
    "    row = gen.find_all('tr')[1:]\n",
    "    return list(map(get_each_line, row))\n",
    "    "
   ]
  },
  {
   "cell_type": "code",
   "execution_count": 85,
   "metadata": {},
   "outputs": [],
   "source": [
    "all_list=data_clean(table)"
   ]
  },
  {
   "cell_type": "code",
   "execution_count": 89,
   "metadata": {},
   "outputs": [],
   "source": [
    "all_list_df = pd.DataFrame(all_list, columns=['日文', '中文', '對戰', '冒險'])"
   ]
  },
  {
   "cell_type": "code",
   "execution_count": null,
   "metadata": {},
   "outputs": [],
   "source": [
    "all_list_df.to_csv('/Users/mac/Desktop/projects/pokemon/')"
   ]
  },
  {
   "cell_type": "code",
   "execution_count": null,
   "metadata": {},
   "outputs": [],
   "source": []
  }
 ],
 "metadata": {
  "kernelspec": {
   "display_name": "Python 3",
   "language": "python",
   "name": "python3"
  },
  "language_info": {
   "codemirror_mode": {
    "name": "ipython",
    "version": 3
   },
   "file_extension": ".py",
   "mimetype": "text/x-python",
   "name": "python",
   "nbconvert_exporter": "python",
   "pygments_lexer": "ipython3",
   "version": "3.6.5"
  }
 },
 "nbformat": 4,
 "nbformat_minor": 2
}

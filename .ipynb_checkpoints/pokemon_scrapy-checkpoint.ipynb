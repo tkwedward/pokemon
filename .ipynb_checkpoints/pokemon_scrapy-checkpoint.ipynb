{
 "cells": [
  {
   "cell_type": "code",
   "execution_count": 412,
   "metadata": {},
   "outputs": [],
   "source": [
    "from bs4 import BeautifulSoup\n",
    "from urllib.request import urlopen\n",
    "import re\n",
    "import pandas as pd\n",
    "import numpy as np"
   ]
  },
  {
   "cell_type": "code",
   "execution_count": 592,
   "metadata": {
    "scrolled": true
   },
   "outputs": [
    {
     "ename": "IndexError",
     "evalue": "list index out of range",
     "output_type": "error",
     "traceback": [
      "\u001b[0;31m---------------------------------------------------------------------------\u001b[0m",
      "\u001b[0;31mIndexError\u001b[0m                                Traceback (most recent call last)",
      "\u001b[0;32m<ipython-input-592-fc2be5389444>\u001b[0m in \u001b[0;36m<module>\u001b[0;34m()\u001b[0m\n\u001b[1;32m     99\u001b[0m     \u001b[0;32mexcept\u001b[0m\u001b[0;34m:\u001b[0m\u001b[0;34m\u001b[0m\u001b[0m\n\u001b[1;32m    100\u001b[0m         \u001b[0mspecial_skill_list\u001b[0m \u001b[0;34m=\u001b[0m \u001b[0;34m(\u001b[0m\u001b[0;36m0\u001b[0m\u001b[0;34m,\u001b[0m\u001b[0;36m0\u001b[0m\u001b[0;34m)\u001b[0m\u001b[0;34m\u001b[0m\u001b[0m\n\u001b[0;32m--> 101\u001b[0;31m     \u001b[0mHM_skill_list\u001b[0m \u001b[0;34m=\u001b[0m \u001b[0mskill_extract\u001b[0m\u001b[0;34m(\u001b[0m\u001b[0;34m'日月機器技能'\u001b[0m\u001b[0;34m)\u001b[0m\u001b[0;34m\u001b[0m\u001b[0m\n\u001b[0m\u001b[1;32m    102\u001b[0m \u001b[0;34m\u001b[0m\u001b[0m\n\u001b[1;32m    103\u001b[0m     \u001b[0;34m\"\"\"-------------# 處理 lv_skill_list, special_skill_list, HM_skill_list 的合併-------------\"\"\"\u001b[0m\u001b[0;34m\u001b[0m\u001b[0m\n",
      "\u001b[0;32m<ipython-input-592-fc2be5389444>\u001b[0m in \u001b[0;36mskill_extract\u001b[0;34m(th_name)\u001b[0m\n\u001b[1;32m     84\u001b[0m             \u001b[0mskill_row\u001b[0m \u001b[0;34m=\u001b[0m \u001b[0mx\u001b[0m\u001b[0;34m.\u001b[0m\u001b[0mfind_all\u001b[0m\u001b[0;34m(\u001b[0m\u001b[0;34m'td'\u001b[0m\u001b[0;34m)\u001b[0m\u001b[0;34m\u001b[0m\u001b[0m\n\u001b[1;32m     85\u001b[0m             \u001b[0mrequirement\u001b[0m \u001b[0;34m=\u001b[0m \u001b[0mskill_row\u001b[0m\u001b[0;34m[\u001b[0m\u001b[0;36m0\u001b[0m\u001b[0;34m]\u001b[0m\u001b[0;34m.\u001b[0m\u001b[0mtext\u001b[0m\u001b[0;34m\u001b[0m\u001b[0m\n\u001b[0;32m---> 86\u001b[0;31m             \u001b[0mcn_name\u001b[0m \u001b[0;34m=\u001b[0m \u001b[0mskill_row\u001b[0m\u001b[0;34m[\u001b[0m\u001b[0;36m1\u001b[0m\u001b[0;34m]\u001b[0m\u001b[0;34m.\u001b[0m\u001b[0mtext\u001b[0m\u001b[0;34m\u001b[0m\u001b[0m\n\u001b[0m\u001b[1;32m     87\u001b[0m             \u001b[0mextracted_skill_list\u001b[0m\u001b[0;34m.\u001b[0m\u001b[0mappend\u001b[0m\u001b[0;34m(\u001b[0m\u001b[0;34m(\u001b[0m\u001b[0mrequirement\u001b[0m\u001b[0;34m,\u001b[0m \u001b[0mcn_name\u001b[0m\u001b[0;34m)\u001b[0m\u001b[0;34m)\u001b[0m\u001b[0;34m\u001b[0m\u001b[0m\n\u001b[1;32m     88\u001b[0m             \u001b[0;32mtry\u001b[0m\u001b[0;34m:\u001b[0m\u001b[0;34m\u001b[0m\u001b[0m\n",
      "\u001b[0;31mIndexError\u001b[0m: list index out of range"
     ]
    }
   ],
   "source": [
    "for pkm_no in range(10, 802):\n",
    "    html = open('/Users/mac/Desktop/projects/pokemon/pokedex/{}.html'.format(pkm_no)).read()\n",
    "    soup = BeautifulSoup(html, 'html.parser')\n",
    "    data_cleaning(pkm_no, soup)\n",
    "    "
   ]
  },
  {
   "cell_type": "code",
   "execution_count": 594,
   "metadata": {
    "scrolled": true
   },
   "outputs": [],
   "source": [
    "def data_cleaning(pkm_no, soup):\n",
    "    def ability_extract(tag='a', rex='特性', num=1):\n",
    "        tbody = soup.find_all(tag, text=re.compile(rex), attrs={})[num].parent.parent.parent\n",
    "        tbody_row = tbody.find_all('tr')\n",
    "        ability = (rex, tbody_row[1].find('td').text)\n",
    "        ability2 = (None)\n",
    "        try:\n",
    "            ability2 = (rex,tbody_row[3].find('a').text)\n",
    "            return ability, ability2\n",
    "        except:\n",
    "            pass\n",
    "        return ability\n",
    "\n",
    "    def add_number(ability_list):\n",
    "        return_list = [(y[0]+str(x+1), y[1]) for x,y in enumerate(ability_list)]\n",
    "        return return_list\n",
    "\n",
    "    normal_ability = add_number([ability_extract(tag='a', rex='特性', num=1)])\n",
    "    special_ability = add_number([ability_extract(tag='a', rex='夢特', num=0)])\n",
    "\n",
    "    \"\"\"---------------------------\"\"\"\n",
    "    # 進化\n",
    "    def evolution_extract():\n",
    "        tbody = soup.find('td', text=re.compile('進化'), attrs={}).parent.parent\n",
    "        list_evolution_raw = [x.text for x in tbody.find_all('td')]\n",
    "        try:    \n",
    "            list_evolution = [list_evolution_raw[slice(1+8*x,9+8*x)] for x in range(0,2)]\n",
    "        except:\n",
    "            list_evolution = list_evolution_raw[slice(1,9)]\n",
    "        return list_evolution\n",
    "\n",
    "    evolution_list = evolution_extract()\n",
    "    evolution_list = [''.join(x) for x in evolution_list] \n",
    "    evolution_list = [('進化'+str(x), y) for x, y in enumerate(evolution_list)]\n",
    "\n",
    "\n",
    "    \"\"\"---------------------------\"\"\"\n",
    "\n",
    "    # 轉換種族值的方法\n",
    "    strength = soup.find('td', text=re.compile('種族值')) # 在html 中的location\n",
    "    strength_table = strength.parent.find_all('td')\n",
    "    hp = strength_table[1]\n",
    "    atk = strength_table[2]\n",
    "    df = strength_table[3]\n",
    "    spAtk = strength_table[4]\n",
    "    spDf = strength_table[5]\n",
    "    spd = strength_table[6]\n",
    "    strength_text = [hp, atk, df, spAtk, spDf, spd]\n",
    "\n",
    "    k =['hp', 'atk', 'df', 'spAtk', 'spDf', 'spd']\n",
    "    strength_int = list(map(lambda x: int(x.text), strength_text))\n",
    "    strength_tuple = list(zip(k, strength_int))# 用來整一個dictionary\n",
    "\n",
    "    \"\"\"---------------------------\"\"\"\n",
    "\n",
    "    # 全國編號, 地區編號, 日文名稱, 中文名稱, 英文名稱, 屬性, 身高, 體重, 蛋組, 孵化步數, 性別比例, 總經驗值, 初始親密, 捕捉機率\n",
    "    def extract_row_data(x):\n",
    "        return x.find_all('td')[0].text, x.find_all('td')[1].text\n",
    "\n",
    "    def basic_data_extract(tag='td', name='全國編號', num=0):\n",
    "        tbody  = soup.find_all(tag, text=re.compile(name), attrs={})[num].parent.parent # td -> tr -> tbody\n",
    "        tbody_row = tbody.find_all('tr')\n",
    "        return list(map(extract_row_data, tbody_row))\n",
    "\n",
    "    # 將基本資料、進化和特性合併\n",
    "    basic_data_list = basic_data_extract()\n",
    "    basic_data_list+=evolution_list\n",
    "    basic_data_list+=normal_ability\n",
    "    basic_data_list+=special_ability\n",
    "    basic_data_list+=strength_tuple\n",
    "\n",
    "    \"\"\"---------------------------\"\"\"\n",
    "\n",
    "    # 找招式相關的地方\n",
    "    def skill_extract(th_name):\n",
    "        th_position = soup.find('a', text=re.compile(th_name), attrs={})\n",
    "        skill_tbody = th_position.parent.parent.parent     # special_skill 的 tbody\n",
    "        skill_list = skill_tbody.find_all('tr')\n",
    "        extracted_skill_list = []\n",
    "        for x in skill_list[1:]:\n",
    "            skill_row = x.find_all('td')\n",
    "            requirement = skill_row[0].text\n",
    "            cn_name = skill_row[1].text\n",
    "            extracted_skill_list.append((requirement, cn_name))\n",
    "            try:\n",
    "                requirement = skill_row[2].text\n",
    "                cn_name = skill_row[3].text\n",
    "                extracted_skill_list.append((requirement, cn_name))\n",
    "            except:\n",
    "                pass\n",
    "        return extracted_skill_list\n",
    "\n",
    "    lv_skill_list = skill_extract('升級技能')\n",
    "    try:\n",
    "        special_skill_list = skill_extract('遺傳技能')\n",
    "    except:\n",
    "        special_skill_list = (0,0)\n",
    "    HM_skill_list = skill_extract('日月機器技能')\n",
    "\n",
    "    \"\"\"-------------# 處理 lv_skill_list, special_skill_list, HM_skill_list 的合併-------------\"\"\"\n",
    "\n",
    "    special_skill_df = pd.DataFrame(special_skill_list, columns= ['招式', '學習條件'])\n",
    "    HM_skill_df = pd.DataFrame(HM_skill_list, columns=['學習條件','招式'])\n",
    "    lv_skill_df = pd.DataFrame(lv_skill_list, columns=['學習條件','招式'])\n",
    "    skills_df = pd.concat([lv_skill_df, HM_skill_df, special_skill_df], sort=False)\n",
    "    skills_df.to_csv('/Users/mac/Desktop/projects/pokemon/pokedex/pkm_skill/skills-{}.csv'.format(pkm_no), index=False)\n",
    "\n",
    "    \"\"\"-------------出︰基本資料 和 招數-------------\"\"\"\n",
    "    basic_data_df = pd.DataFrame(basic_data_list) # 將基本資料變做 df\n",
    "    basic_data_df = basic_data_df.T\n",
    "    basic_data_df.columns=basic_data_df.iloc[0] # 將第一行變成了做 columns\n",
    "    basic_data_df.drop(0, axis=0, inplace=True)\n",
    "    basic_data_df.index = [0]\n",
    "    basic_data_df.to_csv('/Users/mac/Desktop/projects/pokemon/pokedex/pkm_skill/basic_data-{}.csv'.format(pkm_no), index=False)\n"
   ]
  },
  {
   "cell_type": "code",
   "execution_count": 595,
   "metadata": {
    "scrolled": true
   },
   "outputs": [
    {
     "ename": "IndexError",
     "evalue": "list index out of range",
     "output_type": "error",
     "traceback": [
      "\u001b[0;31m---------------------------------------------------------------------------\u001b[0m",
      "\u001b[0;31mIndexError\u001b[0m                                Traceback (most recent call last)",
      "\u001b[0;32m<ipython-input-595-03acd369510d>\u001b[0m in \u001b[0;36m<module>\u001b[0;34m()\u001b[0m\n\u001b[0;32m----> 1\u001b[0;31m \u001b[0mdata_cleaning\u001b[0m\u001b[0;34m(\u001b[0m\u001b[0;36m10\u001b[0m\u001b[0;34m,\u001b[0m \u001b[0msoup\u001b[0m\u001b[0;34m)\u001b[0m\u001b[0;34m\u001b[0m\u001b[0m\n\u001b[0m",
      "\u001b[0;32m<ipython-input-594-c64e4ed772dc>\u001b[0m in \u001b[0;36mdata_cleaning\u001b[0;34m(pkm_no, soup)\u001b[0m\n\u001b[1;32m     96\u001b[0m     \u001b[0;32mexcept\u001b[0m\u001b[0;34m:\u001b[0m\u001b[0;34m\u001b[0m\u001b[0m\n\u001b[1;32m     97\u001b[0m         \u001b[0mspecial_skill_list\u001b[0m \u001b[0;34m=\u001b[0m \u001b[0;34m(\u001b[0m\u001b[0;36m0\u001b[0m\u001b[0;34m,\u001b[0m\u001b[0;36m0\u001b[0m\u001b[0;34m)\u001b[0m\u001b[0;34m\u001b[0m\u001b[0m\n\u001b[0;32m---> 98\u001b[0;31m     \u001b[0mHM_skill_list\u001b[0m \u001b[0;34m=\u001b[0m \u001b[0mskill_extract\u001b[0m\u001b[0;34m(\u001b[0m\u001b[0;34m'日月機器技能'\u001b[0m\u001b[0;34m)\u001b[0m\u001b[0;34m\u001b[0m\u001b[0m\n\u001b[0m\u001b[1;32m     99\u001b[0m \u001b[0;34m\u001b[0m\u001b[0m\n\u001b[1;32m    100\u001b[0m     \u001b[0;34m\"\"\"-------------# 處理 lv_skill_list, special_skill_list, HM_skill_list 的合併-------------\"\"\"\u001b[0m\u001b[0;34m\u001b[0m\u001b[0m\n",
      "\u001b[0;32m<ipython-input-594-c64e4ed772dc>\u001b[0m in \u001b[0;36mskill_extract\u001b[0;34m(th_name)\u001b[0m\n\u001b[1;32m     81\u001b[0m             \u001b[0mskill_row\u001b[0m \u001b[0;34m=\u001b[0m \u001b[0mx\u001b[0m\u001b[0;34m.\u001b[0m\u001b[0mfind_all\u001b[0m\u001b[0;34m(\u001b[0m\u001b[0;34m'td'\u001b[0m\u001b[0;34m)\u001b[0m\u001b[0;34m\u001b[0m\u001b[0m\n\u001b[1;32m     82\u001b[0m             \u001b[0mrequirement\u001b[0m \u001b[0;34m=\u001b[0m \u001b[0mskill_row\u001b[0m\u001b[0;34m[\u001b[0m\u001b[0;36m0\u001b[0m\u001b[0;34m]\u001b[0m\u001b[0;34m.\u001b[0m\u001b[0mtext\u001b[0m\u001b[0;34m\u001b[0m\u001b[0m\n\u001b[0;32m---> 83\u001b[0;31m             \u001b[0mcn_name\u001b[0m \u001b[0;34m=\u001b[0m \u001b[0mskill_row\u001b[0m\u001b[0;34m[\u001b[0m\u001b[0;36m1\u001b[0m\u001b[0;34m]\u001b[0m\u001b[0;34m.\u001b[0m\u001b[0mtext\u001b[0m\u001b[0;34m\u001b[0m\u001b[0m\n\u001b[0m\u001b[1;32m     84\u001b[0m             \u001b[0mextracted_skill_list\u001b[0m\u001b[0;34m.\u001b[0m\u001b[0mappend\u001b[0m\u001b[0;34m(\u001b[0m\u001b[0;34m(\u001b[0m\u001b[0mrequirement\u001b[0m\u001b[0;34m,\u001b[0m \u001b[0mcn_name\u001b[0m\u001b[0;34m)\u001b[0m\u001b[0;34m)\u001b[0m\u001b[0;34m\u001b[0m\u001b[0m\n\u001b[1;32m     85\u001b[0m             \u001b[0;32mtry\u001b[0m\u001b[0;34m:\u001b[0m\u001b[0;34m\u001b[0m\u001b[0m\n",
      "\u001b[0;31mIndexError\u001b[0m: list index out of range"
     ]
    }
   ],
   "source": [
    "data_cleaning(10, soup)\n"
   ]
  },
  {
   "cell_type": "raw",
   "metadata": {},
   "source": [
    "def basic_data_extract(tag='td', name='全國編號', num=0):\n",
    "        ddtbody  = soup.find_all(tag, text=re.compile(name), attrs={})[num].parent.parent # td -> tr -> tbody\n",
    "        tbody_row = tbody.find_all('tr')\n",
    "        return list(map(extract_row_data, tbody_row))\n",
    "\n",
    "    # 將基本資料、進化和特性合併\n",
    "    basic_data_list = basic_data_extract()\n",
    "    basic_data_list+=evolution_list\n",
    "    basic_data_list+=normal_ability\n",
    "    basic_data_list+=special_ability\n",
    "    basic_data_list+=strength_tuple\n"
   ]
  }
 ],
 "metadata": {
  "kernelspec": {
   "display_name": "Python 3",
   "language": "python",
   "name": "python3"
  },
  "language_info": {
   "codemirror_mode": {
    "name": "ipython",
    "version": 3
   },
   "file_extension": ".py",
   "mimetype": "text/x-python",
   "name": "python",
   "nbconvert_exporter": "python",
   "pygments_lexer": "ipython3",
   "version": "3.6.5"
  }
 },
 "nbformat": 4,
 "nbformat_minor": 2
}
